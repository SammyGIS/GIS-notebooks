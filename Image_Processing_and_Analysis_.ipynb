{
  "cells": [
    {
      "cell_type": "markdown",
      "metadata": {
        "id": "view-in-github",
        "colab_type": "text"
      },
      "source": [
        "<a href=\"https://colab.research.google.com/github/SammyGIS/GIS-notebooks/blob/main/Image_Processing_and_Analysis_.ipynb\" target=\"_parent\"><img src=\"https://colab.research.google.com/assets/colab-badge.svg\" alt=\"Open In Colab\"/></a>"
      ]
    },
    {
      "cell_type": "markdown",
      "id": "57ceb0e9",
      "metadata": {
        "id": "57ceb0e9"
      },
      "source": [
        "# Satellite Data Analysis in Python\n",
        "\n",
        "\n",
        "## Aim\n",
        "The aim of this coursework is for you to put your Python programming skills for satellite data analysis into practice and apply them to an environmental problem. Write a Python program to download and process Sentinel-2 satellite images to answer ONE of the specified questions:\n",
        "\n",
        "\n",
        "### Question\n",
        "Mapping fire damage from the Dixie fire in California in 2021 using Sentinel-2 Normalised Burn Ratio (NBR) and differenced NBR Obtain an image from Sentinel-2 before and one after the Dixie fire. \n",
        "\n",
        "* Calculate NBR from each image and dNBR from both images. \n",
        "* Produce a map of the areas where the fire damage has been greatest. \n",
        "* Calculate the average NBR1, NBR2 and dNBR for a selection of burned and unburned polygons you draw in a GIS. \n",
        "* Make maps of NDVI before and after the fire as well.\n",
        "* Calculate the NDVI difference and test whether dNBR was correlated to a loss in NDVI.\n",
        "* Was the Dixie fire uniform or did it affect some areas in different ways?"
      ]
    },
    {
      "cell_type": "markdown",
      "id": "93815157",
      "metadata": {
        "id": "93815157"
      },
      "source": [
        "#### About Dixies Fire in California 2021\n",
        "\n",
        "The Dixie Fire was an enormous wildfire in Butte, Plumas, Lassen, Shasta, and Tehama Counties, California. It is named after the creek near where it started. The fire began in the Feather River Canyon near Cresta Dam on July 13, 2021, and burned 963,309 acres (389,837 ha) before being 100% contained on October 25, 2021. It was the largest single (i.e. non-complex) wildfire in recorded California history, and the second-largest wildfire overall (after the August Complex fire of 2020). The fire damaged or destroyed several small towns, including Greenville on August 4, Canyondam on August 5, and Warner Valley on August 12.\n",
        "\n",
        "By July 23, it had become the largest wildfire of the 2021 California fire season; by August 6, it had grown to become the largest single (i.e. non-complex) wildfire in the state's history, burning an area larger than the state of Rhode Island. It was the first fire known to have burned across the crest of the Sierra Nevada (followed by the Caldor Fire later in the season). Smoke from the Dixie Fire caused unhealthy air quality across the Western United States, including states as far east as Utah and Colorado.\n",
        "\n",
        "Date(s)\tJuly 13, 2021 — October 25, 2021.\n",
        "\n",
        "**source: https://en.wikipedia.org/wiki/Dixie_Fire"
      ]
    },
    {
      "cell_type": "markdown",
      "id": "e1d948e9",
      "metadata": {
        "id": "e1d948e9"
      },
      "source": [
        "## Install, Import, authenticate and Initialiaze the neccessary libaries"
      ]
    },
    {
      "cell_type": "code",
      "execution_count": null,
      "id": "33228482",
      "metadata": {
        "id": "33228482"
      },
      "outputs": [],
      "source": [
        "# install neccessary libaries \n",
        "!pip install geemap\n",
        "!pip install geopandas\n",
        "!pip install seaborn\n",
        "!pip install matplotlib\n",
        "\n",
        "\n",
        "\n",
        "# Import the necessary libraries\n",
        "import ee\n",
        "import numpy as np\n",
        "import geemap.eefolium as geemap # the imagery diplay will be disaply on a basemap\n",
        "import geopandas as gpd # use to load shapefiles\n",
        "import pprint\n",
        "import seaborn as sns # used for visualization of chart\n",
        "import matplotlib.pyplot as plt\n",
        "from IPython.display import set_matplotlib_formats"
      ]
    },
    {
      "cell_type": "markdown",
      "id": "08809871",
      "metadata": {
        "id": "08809871"
      },
      "source": [
        "#### Activate Google Earth Engine"
      ]
    },
    {
      "cell_type": "code",
      "execution_count": null,
      "id": "826eb4ae",
      "metadata": {
        "id": "826eb4ae"
      },
      "outputs": [],
      "source": [
        "# Authenticate and initialize this instance of google eateh enigne in this notebook\n",
        "# Follow the prompts and fill in authentication code\n",
        "ee.Authenticate()\n",
        "ee.Initialize()"
      ]
    },
    {
      "cell_type": "markdown",
      "id": "8ec97f40",
      "metadata": {
        "id": "8ec97f40"
      },
      "source": [
        "## Data Collection, FIltering and Preprocessing"
      ]
    },
    {
      "cell_type": "code",
      "execution_count": null,
      "id": "1271b2de",
      "metadata": {
        "id": "1271b2de"
      },
      "outputs": [],
      "source": [
        "# Create a center point at location where the fire happend, the point was collect from https://www.fire.ca.gov/incidents/2021/7/14/dixie-fire/\n",
        "point = ee.Geometry.Point([-121.389439,39.871306])"
      ]
    },
    {
      "cell_type": "code",
      "execution_count": null,
      "id": "57ab600f",
      "metadata": {
        "id": "57ab600f"
      },
      "outputs": [],
      "source": [
        "# Colection of sentinel Imagery from the Sentinel-2 data\n",
        "# Create and filter sentinel 2 image by bounds dates and cloud cover\n",
        "# Pre-filter to get less cloudy granules\n",
        "dataset=  ee.ImageCollection(\"COPERNICUS/S2_SR\")\\\n",
        "                .filterDate(\"2021-07-01\",\"2021-11-30\")\\\n",
        "                .filter(ee.Filter.lt('CLOUDY_PIXEL_PERCENTAGE',5))\\\n",
        "                .filterBounds(point)\n",
        "                \n",
        "\n",
        "# Create a composite colour for before and after\n",
        "# We will be visualizing the change that occur before and after the fire\n",
        "Before_Fire = dataset.filterDate(\"2021-06-01\",\"2021-07-12\")\n",
        "After_Fire = dataset.filterDate(\"2021-10-26\",\"2021-11-30\")\n",
        "\n",
        "\n",
        "# Set true-colour composite  (RBG) visualization parameters\n",
        "vis_param = {\n",
        "  'bands': ['B4', 'B3', 'B2'], # change these bands depending on what you want to see\n",
        "  'min': 0.0,   #these values are the min/max values for an Sentinel 2 image\n",
        "  'max': 5000,\n",
        "  'gamma': 1.5,#gamma applies a correction/stretch to each band.  you can specify one value for each band, or one for all\n",
        "}\n",
        "\n",
        "# Add layers to map \n",
        "Map = geemap.Map()\n",
        "\n",
        "Map.addLayer(Before_Fire, vis_param,\"Before the Fire\")\n",
        "Map.addLayer(After_Fire,vis_param,\"After the Fire\")\n",
        "\n",
        "Map.addLayerControl()\n",
        "Map.centerObject(point,15) # set the center point of the image and the zoom level\n",
        "Map"
      ]
    },
    {
      "cell_type": "markdown",
      "id": "96f5e69e",
      "metadata": {
        "id": "96f5e69e"
      },
      "source": [
        "### Normalized Brun Ration (NBR) Calculation"
      ]
    },
    {
      "cell_type": "code",
      "execution_count": null,
      "id": "ac404005",
      "metadata": {
        "id": "ac404005"
      },
      "outputs": [],
      "source": [
        " #NBR = (NIR-SWIR) / (NIR-SWIR)\n",
        "\n",
        "# Using a reducer (median) to compoisite alll the imagery within the data range into one\n",
        "image_1 = Before_Fire.median()\n",
        "image_2 = After_Fire.median()\n",
        "\n",
        "# calulate NBR from satellite images of before the fire incident\n",
        "NBR_Before = image_1.normalizedDifference(['B8', 'B12']).rename('nbr')\n",
        "\n",
        "#caluclate NBR from  satellite images of after the fire incident\n",
        "NBR_After = image_2.normalizedDifference(['B8', 'B12']).rename('nbr')\n",
        "\n",
        "# Map visualization colour\n",
        "# The hex colour code '#C4A484' = Light Brown, '#00FF00' = Green\n",
        "NBR_vis = {'min': -1, 'max': 1, 'palette': ['#C4A484','#FFFF00','#00FF00']}\n",
        "\n",
        "# Display the before and after NBR on a map layer\n",
        "Map = geemap.Map()\n",
        "Map.addLayer(NBR_Before, NBR_vis, 'NBR Before the Fire')\n",
        "Map.addLayer(NBR_After, NBR_vis, 'NBR After the fire')\n",
        "\n",
        "Map.addLayerControl()\n",
        "Map.centerObject(point,15)\n",
        "\n",
        "Map"
      ]
    },
    {
      "cell_type": "markdown",
      "id": "03e7be79",
      "metadata": {
        "id": "03e7be79"
      },
      "source": [
        "### Change in NBR (dNBR) Cacluation "
      ]
    },
    {
      "cell_type": "code",
      "execution_count": null,
      "id": "9d1bd018",
      "metadata": {
        "id": "9d1bd018"
      },
      "outputs": [],
      "source": [
        "# calulate dNBR of the images\n",
        "# dNBR means the changes in past NBR and present NBR i.e change in NBR of the before and after the fire\n",
        "#dNBR = NBR_Before - NBR_After\n",
        "dNBR = NBR_Before.subtract(NBR_After)\n",
        "dNBR_vis = {'min': -1, 'max': 1, 'palette': ['#C4A484','#FFFF00','#00FF00']}\n",
        "\n",
        "# Display the before and after NBR on a map layer\n",
        "Map = geemap.Map()\n",
        "Map.addLayer(dNBR,dNBR_vis, 'dNBR image')\n",
        "\n",
        "Map.addLayerControl()\n",
        "Map.centerObject(point,15)\n",
        "\n",
        "Map"
      ]
    },
    {
      "cell_type": "markdown",
      "id": "f86372d5",
      "metadata": {
        "id": "f86372d5"
      },
      "source": [
        "## Provide a map of area where fire has been greatest\n",
        "\n",
        "* To create a map of area where fire has been the greatest,  polygon was created aound a point where the fire has been the greatest, and the polygon was used to clip out the area with the greatest fire out of the Sentinel imagery Imagery scene."
      ]
    },
    {
      "cell_type": "code",
      "execution_count": null,
      "id": "f41a5df1",
      "metadata": {
        "id": "f41a5df1"
      },
      "outputs": [],
      "source": [
        "# create a polygon around area with the greatest fire\n",
        "area = ee.Geometry.Polygon([[-121.4444,39.9531],\n",
        "                           [-121.3234,39.9521],\n",
        "                           [-121.3253,39.8104],\n",
        "                           [-121.4408,39.8062]])\n",
        "\n",
        "\n",
        "#clip the Before the fire NBR and After the fire NBR calcuated above with the area polygon\n",
        "NBR1 = NBR_Before.clip(area)\n",
        "NBR2 = NBR_After.clip(area)\n",
        "dNBR_clipped = dNBR.clip(area)\n",
        "\n",
        "# visualization parameters for NBR\n",
        "NBR_vis = {'min': -1, 'max': 1, 'palette': ['#C4A484','#FFFF00','#00FF00']}\n",
        "\n",
        "# Add layers to map \n",
        "Map = geemap.Map()\n",
        "\n",
        "# add all the clipped map layers to the basemap\n",
        "Map.addLayer(NBR1, NBR_vis,\"Before the Fire\")\n",
        "Map.addLayer(NBR2,NBR_vis,\"After the Fire\")\n",
        "Map.addLayer(dNBR_clipped,NBR_vis,\"Differece in NBR (Before-After)\")\n",
        "\n",
        "# add the ploy layer to the map and set the colour as hollow\n",
        "Map.addLayer(area, {}, \"Area\")\n",
        "\n",
        "\n",
        "Map.addLayerControl() # add all the layers controlto the basemap (layer control such as toggle and zoom)\n",
        "Map.centerObject(point,12) # set the center point of the image and the zoom level\n",
        "Map"
      ]
    },
    {
      "cell_type": "markdown",
      "id": "73dbd828",
      "metadata": {
        "id": "73dbd828"
      },
      "source": [
        "### Calculate the average NBR1, NBR2 and dNBR for a selection of burned and unburned polygons you draw in a GIS SOFTWARE\n",
        "\n",
        "I created the Polygon using Google Earth Pro, uisng the time slider to select the date after the fire occur, the polygon draw in google earth pro was exported out as kml, then open with a desktop QGIS file to convert the polygons to shp. the shapefile was then uploaded to a github repository. \n",
        "\n",
        "The polygon iss then uploaded to the drive\n",
        "\n",
        "\n",
        "Zonal Statistics will be use to calculate the average NBR1 (Before the fire), NBR2(After the fire), dNBR( chnage in NBR), the image statistics tool wil be adopt from https://geemap.org/notebooks/30_image_props_stats/ and https://developers.google.com/earth-engine/guides/reducers_reduce_region"
      ]
    },
    {
      "cell_type": "code",
      "execution_count": null,
      "id": "933ea6db",
      "metadata": {
        "id": "933ea6db"
      },
      "outputs": [],
      "source": [
        "# create a variable that links us to the upload polygon on github\n",
        "Burned_polygon = ('https://raw.githubusercontent.com/SammyGIS/Arcpy-Scripting/main/checked_Burned%20Polygons.geojson')\n",
        "Unburned_polygon = ('https://raw.githubusercontent.com/SammyGIS/Arcpy-Scripting/main/checked_Unburned%20polygon.geojson')\n",
        "\n",
        "# conver the KMl polygon files to a google earth enigne file (ee file)\n",
        "Burnt_area = geemap.geojson_to_ee(Burned_polygon)\n",
        "Unburnt_area = geemap.geojson_to_ee(Unburned_polygon)"
      ]
    },
    {
      "cell_type": "code",
      "source": [
        "# overlay the Polygons on the images, to \n",
        "Map = geemap.Map() # instantiate geemap object\n",
        "\n",
        "Map.addLayer(dNBR,dNBR_vis, 'dNBR image')\n",
        "Map.addLayer(NBR_Before, NBR_vis, 'NBR Before the Fire')\n",
        "Map.addLayer(NBR_After, NBR_vis, 'NBR After the fire')\n",
        "Map.addLayer(Burnt_area, {}, \"Burned Polygon\")\n",
        "Map.addLayer(Unburnt_area, {}, \"Unburned Polugon\")\n",
        "\n",
        "Map.addLayerControl()\n",
        "Map.centerObject(point,10)\n",
        "\n",
        "Map"
      ],
      "metadata": {
        "id": "t9_c1eaCSdc9"
      },
      "id": "t9_c1eaCSdc9",
      "execution_count": null,
      "outputs": []
    },
    {
      "cell_type": "code",
      "source": [
        "# Compute the Average of the Burned polygon of  NBR1, NBR2, and dNBR.\n",
        "# Create a function that compute the averages within the burned polygon for each images\n",
        "def get_BurnedAverage(image):\n",
        "  nbr_one = image.reduceRegion(reducer=ee.Reducer.mean(),crs='EPSG:4326', geometry= Burnt_area.geometry(),scale =20)\n",
        "  mean_1 = ee.Number(nbr_one.get(\"nbr\")).getInfo()\n",
        "  print(f\"The Average Value for Burned Area is {mean_1:.2f}\")\n",
        "  print(\"_ _ _  _ _ __ _ _ _ _ _ _ _ _ _ _ _ _ _ _ _ _ _ _ _ _\")\n",
        "\n",
        "# Create a function that compute the averages within the unburned polygon for each images\n",
        "def get_UnburnedAverage(image):\n",
        "  nbr_one = image.reduceRegion(reducer=ee.Reducer.mean(),crs='EPSG:4326', geometry= Unburnt_area.geometry(),scale =20)\n",
        "  mean_1 = ee.Number(nbr_one.get(\"nbr\")).getInfo()\n",
        "  print(f\"The Average Value for Unburned Area is {mean_1:.2f}\")\n",
        "  print(\"_ _ _  _ _ __ _ _ _ _ _ _ _ _ _ _ _ _ _ _ _ _ _ _ _ _\")\n",
        "\n",
        "# print result\n",
        "get_BurnedAverage(NBR1)\n",
        "#get_BurnedAverage(NBR2)\n",
        "#get_BurnedAverage(dNBR)\n",
        "\n",
        "get_UnburnedAverage(NBR1)\n",
        "#get_UnburnedAverage(NBR2)\n",
        "#get_UnburnedAverage(dNBR)\n"
      ],
      "metadata": {
        "id": "ByUHVeIWSki7"
      },
      "id": "ByUHVeIWSki7",
      "execution_count": null,
      "outputs": []
    },
    {
      "cell_type": "markdown",
      "id": "0ff00f95",
      "metadata": {
        "id": "0ff00f95"
      },
      "source": [
        "### Normalized Diffference Vegetation Index  Calculation"
      ]
    },
    {
      "cell_type": "code",
      "execution_count": null,
      "id": "5d9fa97e",
      "metadata": {
        "id": "5d9fa97e"
      },
      "outputs": [],
      "source": [
        "# calulate NDVI from before images\n",
        "#NBR = (NIR-RED) / (NIR+RED)\n",
        "\n",
        "# Using a reducer (median) to compoisite alll the imagery within the data range into one\n",
        "image_1 = Before_Fire.median()\n",
        "image_2 = After_Fire.median()\n",
        "\n",
        "#Using the Normalized difference function\n",
        "#NB: We rename the band to 'ndvi' b/c the function names the new band as 'nd' (normalized difference)\n",
        "NDVI_Before = image_1.normalizedDifference(['B8', 'B4']).rename('ndvi')\n",
        "\n",
        "#caluclate NDVI from after images using geeogle earth engine expression\n",
        "NDVI_After = image_2.normalizedDifference(['B8', 'B4']).rename('ndvi')\n",
        "\n",
        "# Map visualization colour\n",
        "# The hex colour code #640000' =dark brown, '#C4A484' = Light Brown, '#FFFF00'=yellow, '#00FF00' = Green, '#006400'= dark green\n",
        "NDVI_vis = {'min': -1, 'max': 1, 'palette': ['#640000','#C4A484','#FFFF00','#00FF00', '#006400']}\n",
        "\n",
        "# Display the before and after NBR on a map layer\n",
        "Map = geemap.Map()\n",
        "Map.addLayer(NBR_Before, NDVI_vis, 'NDVI Before the Fire')\n",
        "Map.addLayer(NBR_After, NDVI_vis, 'NDVI After the fire')\n",
        "\n",
        "Map.addLayerControl()\n",
        "Map.centerObject(point,15)\n",
        "\n",
        "Map"
      ]
    },
    {
      "cell_type": "markdown",
      "source": [
        "### NDVI DIffernce\n",
        "\n",
        "NDVI differnce image was cretated for Area with the Greatest Fire and The whole Image Scene"
      ],
      "metadata": {
        "id": "C15ZfA72dljp"
      },
      "id": "C15ZfA72dljp"
    },
    {
      "cell_type": "code",
      "execution_count": null,
      "id": "177835da",
      "metadata": {
        "id": "177835da"
      },
      "outputs": [],
      "source": [
        "# create a polygon around area with the greatest fire\n",
        "area = ee.Geometry.Polygon([[-121.4444,39.9531],\n",
        "                           [-121.3234,39.9521],\n",
        "                           [-121.3253,39.8104],\n",
        "                           [-121.4408,39.8062]])\n",
        "\n",
        "# Calculate the NDVI difference of before and after the fire\n",
        "\"\"\"\n",
        "The loss in NDVI is also the change in NDVI will be calcualted by subtracting \n",
        "the before fire NDVI form the after Fire NDVI\n",
        "\"\"\"\n",
        "NDVI_diff = NDVI_Before.subtract(NDVI_After)\n",
        "\n",
        "#clip the change in NDVI to the area\n",
        "NDVI_clipped = NDVI_diff.clip(area)\n",
        "\n",
        "# Map visualization colour\n",
        "# The hex colour code #640000' =dark brown, '#C4A484' = Light Brown, '#FFFF00'=yellow, '#00FF00' = Green, '#006400'= dark green\n",
        "NDVI_vis = {'min': -1, 'max': 1, 'palette': ['#640000','#C4A484','#FFFF00','#00FF00', '#006400']}\n",
        "\n",
        "# Display the NDVI differnce and the clip NDVI differnce on the basemap\n",
        "Map = geemap.Map()\n",
        "Map.addLayer(NDVI_diff,NDVI_vis, 'NDVI Difference')\n",
        "Map.addLayer(NDVI_clipped,NDVI_vis, 'NDVI clipped')\n",
        "Map.addLayer(area, {}, \"Area with the greatest Fire\")\n",
        "\n",
        "Map.addLayerControl()\n",
        "Map.centerObject(point,12)\n",
        "\n",
        "Map"
      ]
    },
    {
      "cell_type": "markdown",
      "id": "4ba47bf7",
      "metadata": {
        "id": "4ba47bf7"
      },
      "source": [
        "#### Test whether dNBR was correlated to a loss in NDVI.\n",
        "* The dNBR has been calculated by subtracting the before fom the after\n",
        "* The loss in NDVI has been computed above and named as NDVI_diff.\n",
        "\n",
        "We will be using Kenek density plot line graph to measure their correlation since, since both raster data ranges from -1 to +1, it willl be easy to measure the distibution.\n",
        "\n",
        "The code is copied fromhttps://worldbank.github.io/OpenNightLights/tutorials/mod4_2_histograms.html and then modififed. The function used was better understand from this website https://developers.google.com/earth-engine/apidocs/ee-image-samplerectangle"
      ]
    },
    {
      "cell_type": "code",
      "source": [
        "# Reproject the images and convert them to numpy array\n",
        "image_1 = NDVI_diff.reproject(crs = ee.Projection('EPSG:4326'), scale =100)\n",
        "data = np.array(image_1.sampleRectangle(region=area, defaultValue =0).get('ndvi').getInfo())\n",
        "\n",
        "image_2 = dNBR.reproject(crs = ee.Projection('EPSG:4326'), scale =100)\n",
        "data_2 = np.array(image_2.sampleRectangle(region=area, defaultValue =0).get('nbr').getInfo())\n",
        "\n",
        "# first, we flatten our array to a 1-d array for the plot\n",
        "ndvi= data.flatten()\n",
        "dnbr = data_2.flatten()\n",
        "\n",
        "# Plot the figure and axes\n",
        "fig, ax = plt.subplots(figsize=(15,5))\n",
        "sns.kdeplot(ndvi,label='Change in NDVI',legend=True, ax=ax)\n",
        "sns.kdeplot(dnbr,label='Change in NBR (dNBR)',legend=True, ax=ax)\n",
        "plt.legend(fontsize=10)\n",
        "plt.title('using Trends to test whether dNBR is correlated to loss in NDVI ', fontsize=20);"
      ],
      "metadata": {
        "id": "5_z4DfBMdE1w"
      },
      "id": "5_z4DfBMdE1w",
      "execution_count": null,
      "outputs": []
    },
    {
      "cell_type": "markdown",
      "id": "0cd6f772",
      "metadata": {
        "id": "0cd6f772"
      },
      "source": [
        "### Was the Dixie fire uniform or did it affect some areas in different ways?"
      ]
    },
    {
      "cell_type": "markdown",
      "id": "123c16a9",
      "metadata": {
        "id": "123c16a9"
      },
      "source": [
        "The Dixie Fire is uniform, it affected all area in the same way, it has a clustered pattern where all the fire spread out from a point to other point and keep spreading, a section of the forest was burned and everthing surround it was affeccted before the fire was fully contained."
      ]
    },
    {
      "cell_type": "markdown",
      "source": [
        "## References\n",
        "https://developers.google.com/earth-engine/datasets/catalog/COPERNICUS_S2_SR\n",
        "\n",
        "https://developers.google.com/earth-engine/apidocs\n",
        "\n",
        "https://geemap.org/notebooks/00_geemap_key_features/\n",
        "\n",
        "https://custom-scripts.sentinel-hub.com/custom-scripts/sentinel-2/nbr/"
      ],
      "metadata": {
        "id": "K7K8hH846JfQ"
      },
      "id": "K7K8hH846JfQ"
    }
  ],
  "metadata": {
    "kernelspec": {
      "display_name": "Python 3 (ipykernel)",
      "language": "python",
      "name": "python3"
    },
    "language_info": {
      "codemirror_mode": {
        "name": "ipython",
        "version": 3
      },
      "file_extension": ".py",
      "mimetype": "text/x-python",
      "name": "python",
      "nbconvert_exporter": "python",
      "pygments_lexer": "ipython3",
      "version": "3.7.0"
    },
    "colab": {
      "name": "Image_Processing and Analysis .ipynb",
      "provenance": [],
      "collapsed_sections": [],
      "toc_visible": true,
      "include_colab_link": true
    }
  },
  "nbformat": 4,
  "nbformat_minor": 5
}